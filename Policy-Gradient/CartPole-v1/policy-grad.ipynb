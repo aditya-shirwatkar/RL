{
 "cells": [
  {
   "cell_type": "code",
   "execution_count": 1,
   "metadata": {},
   "outputs": [],
   "source": [
    "import torch\n",
    "import torch.nn as nn\n",
    "import torch.nn.functional as F\n",
    "import torch.optim as optim\n",
    "import gym\n",
    "import numpy as np\n",
    "from matplotlib import pyplot as plt\n",
    "import random\n",
    "from collections import namedtuple\n",
    "from matplotlib import animation as anime"
   ]
  },
  {
   "cell_type": "code",
   "execution_count": 2,
   "metadata": {},
   "outputs": [],
   "source": [
    "xval = []\n",
    "yval = []\n",
    "yavg = []\n",
    "def animate(i):\n",
    "    plt.cla()\n",
    "    plt.plot(xval, yval, 'r*')\n"
   ]
  },
  {
   "cell_type": "code",
   "execution_count": 3,
   "metadata": {},
   "outputs": [],
   "source": [
    "env = gym.make('CartPole-v1')"
   ]
  },
  {
   "cell_type": "code",
   "execution_count": 4,
   "metadata": {
    "tags": []
   },
   "outputs": [
    {
     "name": "stdout",
     "output_type": "stream",
     "text": [
      "cuda:0\n"
     ]
    }
   ],
   "source": [
    "device = torch.device(\"cuda:0\" if torch.cuda.is_available() else \"cpu\")\n",
    "\n",
    "# Assuming that we are on a CUDA machine, this should print a CUDA device:\n",
    "print(device)"
   ]
  },
  {
   "cell_type": "code",
   "execution_count": 5,
   "metadata": {},
   "outputs": [],
   "source": [
    "class Agent(nn.Module):\n",
    "    def __init__(self):\n",
    "        super().__init__()\n",
    "        self.fc1 = nn.Linear(env.observation_space.shape[0], 32)\n",
    "#         self.fc2 = nn.Linear(420, 128)\n",
    "        self.fc3 = nn.Linear(32, env.action_space.n)\n",
    "\n",
    "    def forward(self, x):\n",
    "        # print(x)\n",
    "        x = torch.tanh(self.fc1(x.to(device)))\n",
    "#         x = torch.relu(self.fc2(x))\n",
    "        x = self.fc3(x)\n",
    "        return F.softmax(x, dim=1)\n",
    "        # return x"
   ]
  },
  {
   "cell_type": "code",
   "execution_count": 6,
   "metadata": {},
   "outputs": [],
   "source": [
    "class LearnAcrobot:\n",
    "    def __init__(self, d_size, episodes):\n",
    "        self.D_SIZE = d_size\n",
    "        self.EPISODES = episodes\n",
    "        self.model = Agent().to(device)\n",
    "        self.optim = optim.Adam(self.model.parameters(),  lr=1e-2)\n",
    "        self.trajectory = []\n",
    "        self.batch_states = []\n",
    "        self.batch_actions = []\n",
    "        self.batch_returns = []\n",
    "        self.batch_Rtau = []\n",
    "        self.log_probs = []\n",
    "        self.rewards = []\n",
    "        self.probs = []\n",
    "\n",
    "    def makePolicy(self, s):\n",
    "        logits = self.model(s)\n",
    "        # print(logits)\n",
    "        return torch.distributions.Categorical(logits=logits)\n",
    "\n",
    "    def takeAction(self, s):\n",
    "        # s = self.model(torch.as_tensor(s).float().unsqueeze(0))\n",
    "        # prob = torch.distributions.Categorical(logits=s)\n",
    "        # act = prob.sample()\n",
    "        # # act = torch.argmax(s)\n",
    "        # # print(prob.log_prob(act))\n",
    "        # # self.log_probs[indx].append(prob.log_prob(act))\n",
    "        # return act.item(), prob.log_prob(act), s[0][act]\n",
    "        return self.makePolicy(s).sample().item()\n",
    "\n",
    "    def computeGradientJ(self, s, act, rTau):\n",
    "        # print(s)\n",
    "        logp = self.makePolicy(s).log_prob(act)\n",
    "        # print(rTau, logp)\n",
    "        return -(logp * rTau).mean()\n",
    "\n",
    "    def train(self):\n",
    "        self.optim.zero_grad()\n",
    "        loss = self.computeGradientJ(torch.as_tensor(self.batch_states).float().to(device),\n",
    "                                     torch.as_tensor(self.batch_actions).int().to(device),\n",
    "                                     torch.as_tensor(self.batch_Rtau).float().to(device))\n",
    "        loss.backward()\n",
    "        self.optim.step()\n",
    "        g = self.batch_Rtau[0]\n",
    "        self.batch_Rtau = []\n",
    "        self.batch_actions = []\n",
    "        self.batch_states = []\n",
    "        self.batch_returns = []\n",
    "        return g, loss\n"
   ]
  },
  {
   "cell_type": "code",
   "execution_count": 7,
   "metadata": {},
   "outputs": [],
   "source": [
    "acro = LearnAcrobot(5000, 50)"
   ]
  },
  {
   "cell_type": "code",
   "execution_count": 8,
   "metadata": {
    "tags": [
     "outputPrepend"
    ]
   },
   "outputs": [
    {
     "name": "stdout",
     "output_type": "stream",
     "text": [
      "Loss at 1 is  tensor(18.1376, device='cuda:0', grad_fn=<NegBackward>)  And return is 24.0\n",
      "Loss at 2 is  tensor(20.5031, device='cuda:0', grad_fn=<NegBackward>)  And return is 18.0\n",
      "Loss at 3 is  tensor(20.2387, device='cuda:0', grad_fn=<NegBackward>)  And return is 17.0\n",
      "Loss at 4 is  tensor(22.5939, device='cuda:0', grad_fn=<NegBackward>)  And return is 23.0\n",
      "Loss at 5 is  tensor(24.5527, device='cuda:0', grad_fn=<NegBackward>)  And return is 24.0\n",
      "Loss at 6 is  tensor(24.3315, device='cuda:0', grad_fn=<NegBackward>)  And return is 16.0\n",
      "Loss at 7 is  tensor(27.7998, device='cuda:0', grad_fn=<NegBackward>)  And return is 34.0\n",
      "Loss at 8 is  tensor(27.4795, device='cuda:0', grad_fn=<NegBackward>)  And return is 65.0\n",
      "Loss at 9 is  tensor(30.5142, device='cuda:0', grad_fn=<NegBackward>)  And return is 17.0\n",
      "Loss at 10 is  tensor(26.9124, device='cuda:0', grad_fn=<NegBackward>)  And return is 27.0\n",
      "Loss at 11 is  tensor(31.2708, device='cuda:0', grad_fn=<NegBackward>)  And return is 29.0\n",
      "Loss at 12 is  tensor(28.7384, device='cuda:0', grad_fn=<NegBackward>)  And return is 24.0\n",
      "Loss at 13 is  tensor(34.7254, device='cuda:0', grad_fn=<NegBackward>)  And return is 11.0\n",
      "Loss at 14 is  tensor(37.3691, device='cuda:0', grad_fn=<NegBackward>)  And return is 22.0\n",
      "Loss at 15 is  tensor(33.3675, device='cuda:0', grad_fn=<NegBackward>)  And return is 52.0\n",
      "Loss at 16 is  tensor(35.3219, device='cuda:0', grad_fn=<NegBackward>)  And return is 99.0\n",
      "Loss at 17 is  tensor(37.3106, device='cuda:0', grad_fn=<NegBackward>)  And return is 13.0\n",
      "Loss at 18 is  tensor(38.0397, device='cuda:0', grad_fn=<NegBackward>)  And return is 24.0\n",
      "Loss at 19 is  tensor(35.3430, device='cuda:0', grad_fn=<NegBackward>)  And return is 46.0\n",
      "Loss at 20 is  tensor(36.6588, device='cuda:0', grad_fn=<NegBackward>)  And return is 57.0\n",
      "Loss at 21 is  tensor(38.9197, device='cuda:0', grad_fn=<NegBackward>)  And return is 61.0\n",
      "Loss at 22 is  tensor(39.0433, device='cuda:0', grad_fn=<NegBackward>)  And return is 41.0\n",
      "Loss at 23 is  tensor(39.3454, device='cuda:0', grad_fn=<NegBackward>)  And return is 23.0\n",
      "Loss at 24 is  tensor(41.7748, device='cuda:0', grad_fn=<NegBackward>)  And return is 24.0\n",
      "Loss at 25 is  tensor(41.8476, device='cuda:0', grad_fn=<NegBackward>)  And return is 13.0\n",
      "Loss at 26 is  tensor(41.3552, device='cuda:0', grad_fn=<NegBackward>)  And return is 79.0\n",
      "Loss at 27 is  tensor(47.2553, device='cuda:0', grad_fn=<NegBackward>)  And return is 42.0\n",
      "Loss at 28 is  tensor(44.9268, device='cuda:0', grad_fn=<NegBackward>)  And return is 42.0\n",
      "Loss at 29 is  tensor(39.4984, device='cuda:0', grad_fn=<NegBackward>)  And return is 39.0\n",
      "Loss at 30 is  tensor(48.4187, device='cuda:0', grad_fn=<NegBackward>)  And return is 28.0\n",
      "Loss at 31 is  tensor(47.8687, device='cuda:0', grad_fn=<NegBackward>)  And return is 45.0\n",
      "Loss at 32 is  tensor(43.4232, device='cuda:0', grad_fn=<NegBackward>)  And return is 13.0\n",
      "Loss at 33 is  tensor(46.5335, device='cuda:0', grad_fn=<NegBackward>)  And return is 49.0\n",
      "Loss at 34 is  tensor(48.9863, device='cuda:0', grad_fn=<NegBackward>)  And return is 34.0\n",
      "Loss at 35 is  tensor(53.0591, device='cuda:0', grad_fn=<NegBackward>)  And return is 61.0\n",
      "Loss at 36 is  tensor(51.5149, device='cuda:0', grad_fn=<NegBackward>)  And return is 136.0\n",
      "Loss at 37 is  tensor(49.0625, device='cuda:0', grad_fn=<NegBackward>)  And return is 33.0\n",
      "Loss at 38 is  tensor(61.8604, device='cuda:0', grad_fn=<NegBackward>)  And return is 75.0\n",
      "Loss at 39 is  tensor(63.0354, device='cuda:0', grad_fn=<NegBackward>)  And return is 108.0\n",
      "Loss at 40 is  tensor(61.1009, device='cuda:0', grad_fn=<NegBackward>)  And return is 78.0\n",
      "Loss at 41 is  tensor(67.2668, device='cuda:0', grad_fn=<NegBackward>)  And return is 103.0\n",
      "Loss at 42 is  tensor(59.0043, device='cuda:0', grad_fn=<NegBackward>)  And return is 51.0\n",
      "Loss at 43 is  tensor(77.3437, device='cuda:0', grad_fn=<NegBackward>)  And return is 14.0\n",
      "Loss at 44 is  tensor(71.7089, device='cuda:0', grad_fn=<NegBackward>)  And return is 73.0\n",
      "Loss at 45 is  tensor(80.9938, device='cuda:0', grad_fn=<NegBackward>)  And return is 83.0\n",
      "Loss at 46 is  tensor(70.0087, device='cuda:0', grad_fn=<NegBackward>)  And return is 17.0\n",
      "Loss at 47 is  tensor(91.3466, device='cuda:0', grad_fn=<NegBackward>)  And return is 76.0\n",
      "Loss at 48 is  tensor(89.6841, device='cuda:0', grad_fn=<NegBackward>)  And return is 37.0\n",
      "Loss at 49 is  tensor(79.2803, device='cuda:0', grad_fn=<NegBackward>)  And return is 84.0\n"
     ]
    }
   ],
   "source": [
    "win_count = 0\n",
    "render = True\n",
    "for i in range(1, acro.EPISODES):\n",
    "    \n",
    "    while len(acro.batch_states) < (acro.D_SIZE):\n",
    "        done = False\n",
    "        state = env.reset()\n",
    "        eps_rew = []\n",
    "\n",
    "        while not done:\n",
    "            acro.batch_states.append(state.copy())\n",
    "\n",
    "            action = acro.takeAction(torch.as_tensor(state).float().unsqueeze(0))\n",
    "            new_state, reward, done, _ = env.step(action)\n",
    "\n",
    "            acro.batch_actions.append(action)\n",
    "            eps_rew.append(reward)\n",
    "\n",
    "            if done:\n",
    "                acro.batch_returns.append(sum(eps_rew))\n",
    "                acro.batch_Rtau += [sum(eps_rew)] * len(eps_rew)\n",
    "            state = new_state\n",
    "            # if state[0] >= env.goal_position:\n",
    "            #     win_count += 1\n",
    "            #     print('we made it')\n",
    "\n",
    "            if render:\n",
    "                env.render()\n",
    "        render = False\n",
    "    # if i%100 == 0:\n",
    "    #     print(loss)\n",
    "    g, loss = acro.train()\n",
    "    # print(g)\n",
    "    xval.append(i)\n",
    "    yval.append(g)\n",
    "    yavg.append(sum(yval)/i)\n",
    "    # if i%20 ==0:\n",
    "    print(f'Loss at {i} is ', loss, f' And return is {g}')\n",
    "    render = True\n"
   ]
  },
  {
   "cell_type": "code",
   "execution_count": 9,
   "metadata": {
    "tags": []
   },
   "outputs": [
    {
     "name": "stdout",
     "output_type": "stream",
     "text": [
      "0\n"
     ]
    },
    {
     "data": {
      "image/png": "[encoded data removed]",
      "text/plain": [
       "<Figure size 432x288 with 1 Axes>"
      ]
     },
     "metadata": {
      "needs_background": "light"
     },
     "output_type": "display_data"
    }
   ],
   "source": [
    "print(win_count)\n",
    "env.close()\n",
    "plt.plot(xval, yval, 'b')\n",
    "plt.plot(xval, yavg, 'y')\n",
    "plt.show()\n",
    "plt.close()"
   ]
  },
  {
   "cell_type": "code",
   "execution_count": null,
   "metadata": {},
   "outputs": [],
   "source": []
  }
 ],
 "metadata": {
  "kernelspec": {
   "display_name": "Python 3",
   "language": "python",
   "name": "python3"
  },
  "language_info": {
   "codemirror_mode": {
    "name": "ipython",
    "version": 3
   },
   "file_extension": ".py",
   "mimetype": "text/x-python",
   "name": "python",
   "nbconvert_exporter": "python",
   "pygments_lexer": "ipython3",
   "version": "3.8.3"
  }
 },
 "nbformat": 4,
 "nbformat_minor": 2
}
