{
 "cells": [
  {
   "cell_type": "code",
   "execution_count": 1,
   "metadata": {},
   "outputs": [],
   "source": [
    "import torch\n",
    "import torch.nn as nn\n",
    "import torch.nn.functional as F\n",
    "import torch.optim as optim\n",
    "import gym\n",
    "import numpy as np\n",
    "from matplotlib import pyplot as plt\n",
    "import random\n",
    "from collections import namedtuple\n",
    "from matplotlib import animation as anime"
   ]
  },
  {
   "cell_type": "code",
   "execution_count": 2,
   "metadata": {},
   "outputs": [],
   "source": [
    "xval = []\n",
    "yval = []\n",
    "yavg = []\n",
    "def animate(i):\n",
    "    plt.cla()\n",
    "    plt.plot(xval, yval, 'r*')\n"
   ]
  },
  {
   "cell_type": "code",
   "execution_count": 3,
   "metadata": {},
   "outputs": [],
   "source": [
    "env = gym.make('CartPole-v1')"
   ]
  },
  {
   "cell_type": "code",
   "execution_count": 4,
   "metadata": {},
   "outputs": [],
   "source": [
    "class Agent(nn.Module):\n",
    "    def __init__(self):\n",
    "        super().__init__()\n",
    "        self.fc1 = nn.Linear(env.observation_space.shape[0], 420)\n",
    "        self.fc2 = nn.Linear(420, 128)\n",
    "        self.fc3 = nn.Linear(128, env.action_space.n)\n",
    "\n",
    "    def forward(self, x):\n",
    "        # print(x)\n",
    "        x = torch.relu(self.fc1(x))\n",
    "        x = torch.relu(self.fc2(x))\n",
    "        x = self.fc3(x)\n",
    "        return F.softmax(x, dim=1)\n",
    "        # return x"
   ]
  },
  {
   "cell_type": "code",
   "execution_count": 5,
   "metadata": {
    "tags": []
   },
   "outputs": [
    {
     "name": "stdout",
     "output_type": "stream",
     "text": [
      "cuda:0\n"
     ]
    }
   ],
   "source": [
    "device = torch.device(\"cuda:0\" if torch.cuda.is_available() else \"cpu\")\n",
    "\n",
    "# Assuming that we are on a CUDA machine, this should print a CUDA device:\n",
    "\n",
    "print(device)"
   ]
  },
  {
   "cell_type": "code",
   "execution_count": 6,
   "metadata": {},
   "outputs": [],
   "source": [
    "class LearnAcrobot:\n",
    "    def __init__(self, d_size, episodes):\n",
    "        self.D_SIZE = d_size\n",
    "        self.EPISODES = episodes\n",
    "        self.model = Agent().to(device)\n",
    "        self.optim = optim.Adam(self.model.parameters(),  lr=8e-3)\n",
    "        self.trajectory = []\n",
    "        self.batch_states = []\n",
    "        self.batch_actions = []\n",
    "        self.batch_returns = []\n",
    "        self.batch_Rtau = []\n",
    "        self.log_probs = []\n",
    "        self.rewards = []\n",
    "        self.probs = []\n",
    "\n",
    "    def makePolicy(self, s):\n",
    "        logits = self.model(s.to(device))\n",
    "        # print(logits)\n",
    "        return torch.distributions.Categorical(logits=logits)\n",
    "\n",
    "    def takeAction(self, s):\n",
    "        # s = self.model(torch.as_tensor(s).float().unsqueeze(0))\n",
    "        # prob = torch.distributions.Categorical(logits=s)\n",
    "        # act = prob.sample()\n",
    "        # # act = torch.argmax(s)\n",
    "        # # print(prob.log_prob(act))\n",
    "        # # self.log_probs[indx].append(prob.log_prob(act))\n",
    "        # return act.item(), prob.log_prob(act), s[0][act]\n",
    "        return self.makePolicy(s).sample().item()\n",
    "\n",
    "    def computeGradientJ(self, s, act, rTau):\n",
    "        # print(s)\n",
    "        logp = self.makePolicy(s).log_prob(act)\n",
    "        # print(rTau, logp)\n",
    "        return -(logp * rTau).mean()\n",
    "\n",
    "    def train(self):\n",
    "        self.optim.zero_grad()\n",
    "        loss = self.computeGradientJ(torch.as_tensor(self.batch_states).float().to(device),\n",
    "                                     torch.as_tensor(self.batch_actions).int().to(device),\n",
    "                                     torch.as_tensor(self.batch_Rtau).float().to(device))\n",
    "        loss.backward()\n",
    "        self.optim.step()\n",
    "        g = self.batch_Rtau[0]\n",
    "        self.batch_Rtau = []\n",
    "        self.batch_actions = []\n",
    "        self.batch_states = []\n",
    "        self.batch_returns = []\n",
    "        return g, loss\n"
   ]
  },
  {
   "cell_type": "code",
   "execution_count": 7,
   "metadata": {},
   "outputs": [],
   "source": [
    "acro = LearnAcrobot(420, 500)"
   ]
  },
  {
   "cell_type": "code",
   "execution_count": null,
   "metadata": {
    "tags": [
     "outputPrepend"
    ]
   },
   "outputs": [
    {
     "name": "stdout",
     "output_type": "stream",
     "text": [
      "Loss at 1 is  tensor(17.8360, device='cuda:0', grad_fn=<NegBackward>)  And return is 35.0\n",
      "Loss at 2 is  tensor(22.7782, device='cuda:0', grad_fn=<NegBackward>)  And return is 22.0\n",
      "Loss at 3 is  tensor(24.5099, device='cuda:0', grad_fn=<NegBackward>)  And return is 37.0\n"
     ]
    }
   ],
   "source": [
    "win_count = 0\n",
    "render = True\n",
    "for i in range(1, acro.EPISODES):\n",
    "    \n",
    "    while len(acro.batch_states) < (acro.D_SIZE):\n",
    "        done = False\n",
    "        state = env.reset()\n",
    "        eps_rew = []\n",
    "\n",
    "        while not done:\n",
    "            acro.batch_states.append(state.copy())\n",
    "\n",
    "            action = acro.takeAction(torch.as_tensor(state).float().unsqueeze(0))\n",
    "            new_state, reward, done, _ = env.step(action)\n",
    "\n",
    "            acro.batch_actions.append(action)\n",
    "            eps_rew.append(reward)\n",
    "\n",
    "            if done:\n",
    "                acro.batch_returns.append(sum(eps_rew))\n",
    "                acro.batch_Rtau += [sum(eps_rew)] * len(eps_rew)\n",
    "            state = new_state\n",
    "            # if state[0] >= env.goal_position:\n",
    "            #     win_count += 1\n",
    "            #     print('we made it')\n",
    "\n",
    "            if render:\n",
    "                env.render()\n",
    "        render = False\n",
    "    # if i%100 == 0:\n",
    "    #     print(loss)\n",
    "    g, loss = acro.train()\n",
    "    # print(g)\n",
    "    xval.append(i)\n",
    "    yval.append(g)\n",
    "    yavg.append(sum(yval)/i)\n",
    "    # if i%20 ==0:\n",
    "    print(f'Loss at {i} is ', loss, f' And return is {g}')\n",
    "    render = True\n"
   ]
  },
  {
   "cell_type": "code",
   "execution_count": null,
   "metadata": {
    "tags": []
   },
   "outputs": [],
   "source": [
    "print(win_count)\n",
    "env.close()\n",
    "plt.plot(xval, yval, 'b')\n",
    "plt.plot(xval, yavg, 'y')\n",
    "plt.show()\n",
    "plt.close()"
   ]
  },
  {
   "cell_type": "code",
   "execution_count": null,
   "metadata": {},
   "outputs": [],
   "source": []
  }
 ],
 "metadata": {
  "kernelspec": {
   "display_name": "Python 3",
   "language": "python",
   "name": "python3"
  },
  "language_info": {
   "codemirror_mode": {
    "name": "ipython",
    "version": 3
   },
   "file_extension": ".py",
   "mimetype": "text/x-python",
   "name": "python",
   "nbconvert_exporter": "python",
   "pygments_lexer": "ipython3",
   "version": "3.8.3"
  }
 },
 "nbformat": 4,
 "nbformat_minor": 2
}
